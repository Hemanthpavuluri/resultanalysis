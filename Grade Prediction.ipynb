{
 "cells": [
  {
   "cell_type": "code",
   "execution_count": 1,
   "id": "81715072",
   "metadata": {},
   "outputs": [],
   "source": [
    "import numpy as np\n",
    "import pandas as pd\n",
    "import seaborn as sns"
   ]
  },
  {
   "cell_type": "code",
   "execution_count": 2,
   "id": "98aa0884",
   "metadata": {},
   "outputs": [],
   "source": [
    "data = pd.read_csv(\"Data/sem4.csv\")"
   ]
  },
  {
   "cell_type": "code",
   "execution_count": 3,
   "id": "e973b527",
   "metadata": {},
   "outputs": [
    {
     "data": {
      "text/plain": [
       "<bound method NDFrame.head of                               Subject  Marks  Score\n",
       "0    Discrete Mathematical Structures     36     10\n",
       "1    Discrete Mathematical Structures     31      9\n",
       "2    Discrete Mathematical Structures     31      9\n",
       "3    Discrete Mathematical Structures     34      9\n",
       "4    Discrete Mathematical Structures     23      7\n",
       "..                                ...    ...    ...\n",
       "349                 Computer Networks     34      8\n",
       "350                 Computer Networks     32      8\n",
       "351                 Computer Networks     25      6\n",
       "352                 Computer Networks     27      9\n",
       "353                 Computer Networks     31      8\n",
       "\n",
       "[354 rows x 3 columns]>"
      ]
     },
     "execution_count": 3,
     "metadata": {},
     "output_type": "execute_result"
    }
   ],
   "source": [
    "data.head"
   ]
  },
  {
   "cell_type": "code",
   "execution_count": 4,
   "id": "a961ba4b",
   "metadata": {},
   "outputs": [
    {
     "data": {
      "text/html": [
       "<div>\n",
       "<style scoped>\n",
       "    .dataframe tbody tr th:only-of-type {\n",
       "        vertical-align: middle;\n",
       "    }\n",
       "\n",
       "    .dataframe tbody tr th {\n",
       "        vertical-align: top;\n",
       "    }\n",
       "\n",
       "    .dataframe thead th {\n",
       "        text-align: right;\n",
       "    }\n",
       "</style>\n",
       "<table border=\"1\" class=\"dataframe\">\n",
       "  <thead>\n",
       "    <tr style=\"text-align: right;\">\n",
       "      <th></th>\n",
       "      <th>Subject</th>\n",
       "      <th>Marks</th>\n",
       "      <th>Score</th>\n",
       "    </tr>\n",
       "  </thead>\n",
       "  <tbody>\n",
       "    <tr>\n",
       "      <th>0</th>\n",
       "      <td>Discrete Mathematical Structures</td>\n",
       "      <td>36</td>\n",
       "      <td>10</td>\n",
       "    </tr>\n",
       "    <tr>\n",
       "      <th>1</th>\n",
       "      <td>Discrete Mathematical Structures</td>\n",
       "      <td>31</td>\n",
       "      <td>9</td>\n",
       "    </tr>\n",
       "    <tr>\n",
       "      <th>2</th>\n",
       "      <td>Discrete Mathematical Structures</td>\n",
       "      <td>31</td>\n",
       "      <td>9</td>\n",
       "    </tr>\n",
       "    <tr>\n",
       "      <th>3</th>\n",
       "      <td>Discrete Mathematical Structures</td>\n",
       "      <td>34</td>\n",
       "      <td>9</td>\n",
       "    </tr>\n",
       "    <tr>\n",
       "      <th>4</th>\n",
       "      <td>Discrete Mathematical Structures</td>\n",
       "      <td>23</td>\n",
       "      <td>7</td>\n",
       "    </tr>\n",
       "    <tr>\n",
       "      <th>...</th>\n",
       "      <td>...</td>\n",
       "      <td>...</td>\n",
       "      <td>...</td>\n",
       "    </tr>\n",
       "    <tr>\n",
       "      <th>349</th>\n",
       "      <td>Computer Networks</td>\n",
       "      <td>34</td>\n",
       "      <td>8</td>\n",
       "    </tr>\n",
       "    <tr>\n",
       "      <th>350</th>\n",
       "      <td>Computer Networks</td>\n",
       "      <td>32</td>\n",
       "      <td>8</td>\n",
       "    </tr>\n",
       "    <tr>\n",
       "      <th>351</th>\n",
       "      <td>Computer Networks</td>\n",
       "      <td>25</td>\n",
       "      <td>6</td>\n",
       "    </tr>\n",
       "    <tr>\n",
       "      <th>352</th>\n",
       "      <td>Computer Networks</td>\n",
       "      <td>27</td>\n",
       "      <td>9</td>\n",
       "    </tr>\n",
       "    <tr>\n",
       "      <th>353</th>\n",
       "      <td>Computer Networks</td>\n",
       "      <td>31</td>\n",
       "      <td>8</td>\n",
       "    </tr>\n",
       "  </tbody>\n",
       "</table>\n",
       "<p>354 rows × 3 columns</p>\n",
       "</div>"
      ],
      "text/plain": [
       "                              Subject  Marks  Score\n",
       "0    Discrete Mathematical Structures     36     10\n",
       "1    Discrete Mathematical Structures     31      9\n",
       "2    Discrete Mathematical Structures     31      9\n",
       "3    Discrete Mathematical Structures     34      9\n",
       "4    Discrete Mathematical Structures     23      7\n",
       "..                                ...    ...    ...\n",
       "349                 Computer Networks     34      8\n",
       "350                 Computer Networks     32      8\n",
       "351                 Computer Networks     25      6\n",
       "352                 Computer Networks     27      9\n",
       "353                 Computer Networks     31      8\n",
       "\n",
       "[354 rows x 3 columns]"
      ]
     },
     "execution_count": 4,
     "metadata": {},
     "output_type": "execute_result"
    }
   ],
   "source": [
    "data"
   ]
  },
  {
   "cell_type": "code",
   "execution_count": 5,
   "id": "20b446ab",
   "metadata": {},
   "outputs": [
    {
     "data": {
      "text/plain": [
       "Subject    0\n",
       "Marks      0\n",
       "Score      0\n",
       "dtype: int64"
      ]
     },
     "execution_count": 5,
     "metadata": {},
     "output_type": "execute_result"
    }
   ],
   "source": [
    "data.apply(lambda x:sum(x.isnull()),axis=0)"
   ]
  },
  {
   "cell_type": "code",
   "execution_count": 6,
   "id": "c3ec35f3",
   "metadata": {},
   "outputs": [
    {
     "data": {
      "text/html": [
       "<div>\n",
       "<style scoped>\n",
       "    .dataframe tbody tr th:only-of-type {\n",
       "        vertical-align: middle;\n",
       "    }\n",
       "\n",
       "    .dataframe tbody tr th {\n",
       "        vertical-align: top;\n",
       "    }\n",
       "\n",
       "    .dataframe thead th {\n",
       "        text-align: right;\n",
       "    }\n",
       "</style>\n",
       "<table border=\"1\" class=\"dataframe\">\n",
       "  <thead>\n",
       "    <tr style=\"text-align: right;\">\n",
       "      <th></th>\n",
       "      <th>Marks</th>\n",
       "      <th>Score</th>\n",
       "    </tr>\n",
       "  </thead>\n",
       "  <tbody>\n",
       "    <tr>\n",
       "      <th>count</th>\n",
       "      <td>354.000000</td>\n",
       "      <td>354.000000</td>\n",
       "    </tr>\n",
       "    <tr>\n",
       "      <th>mean</th>\n",
       "      <td>29.644068</td>\n",
       "      <td>7.796610</td>\n",
       "    </tr>\n",
       "    <tr>\n",
       "      <th>std</th>\n",
       "      <td>4.984154</td>\n",
       "      <td>1.182205</td>\n",
       "    </tr>\n",
       "    <tr>\n",
       "      <th>min</th>\n",
       "      <td>11.000000</td>\n",
       "      <td>4.000000</td>\n",
       "    </tr>\n",
       "    <tr>\n",
       "      <th>25%</th>\n",
       "      <td>26.000000</td>\n",
       "      <td>7.000000</td>\n",
       "    </tr>\n",
       "    <tr>\n",
       "      <th>50%</th>\n",
       "      <td>31.000000</td>\n",
       "      <td>8.000000</td>\n",
       "    </tr>\n",
       "    <tr>\n",
       "      <th>75%</th>\n",
       "      <td>33.000000</td>\n",
       "      <td>9.000000</td>\n",
       "    </tr>\n",
       "    <tr>\n",
       "      <th>max</th>\n",
       "      <td>40.000000</td>\n",
       "      <td>10.000000</td>\n",
       "    </tr>\n",
       "  </tbody>\n",
       "</table>\n",
       "</div>"
      ],
      "text/plain": [
       "            Marks       Score\n",
       "count  354.000000  354.000000\n",
       "mean    29.644068    7.796610\n",
       "std      4.984154    1.182205\n",
       "min     11.000000    4.000000\n",
       "25%     26.000000    7.000000\n",
       "50%     31.000000    8.000000\n",
       "75%     33.000000    9.000000\n",
       "max     40.000000   10.000000"
      ]
     },
     "execution_count": 6,
     "metadata": {},
     "output_type": "execute_result"
    }
   ],
   "source": [
    "data.describe()"
   ]
  },
  {
   "cell_type": "code",
   "execution_count": 7,
   "id": "a2fb2ef7",
   "metadata": {
    "scrolled": true
   },
   "outputs": [
    {
     "data": {
      "text/html": [
       "<div>\n",
       "<style scoped>\n",
       "    .dataframe tbody tr th:only-of-type {\n",
       "        vertical-align: middle;\n",
       "    }\n",
       "\n",
       "    .dataframe tbody tr th {\n",
       "        vertical-align: top;\n",
       "    }\n",
       "\n",
       "    .dataframe thead th {\n",
       "        text-align: right;\n",
       "    }\n",
       "</style>\n",
       "<table border=\"1\" class=\"dataframe\">\n",
       "  <thead>\n",
       "    <tr style=\"text-align: right;\">\n",
       "      <th></th>\n",
       "      <th>Marks</th>\n",
       "      <th>Score</th>\n",
       "    </tr>\n",
       "  </thead>\n",
       "  <tbody>\n",
       "    <tr>\n",
       "      <th>Marks</th>\n",
       "      <td>1.00000</td>\n",
       "      <td>0.82663</td>\n",
       "    </tr>\n",
       "    <tr>\n",
       "      <th>Score</th>\n",
       "      <td>0.82663</td>\n",
       "      <td>1.00000</td>\n",
       "    </tr>\n",
       "  </tbody>\n",
       "</table>\n",
       "</div>"
      ],
      "text/plain": [
       "         Marks    Score\n",
       "Marks  1.00000  0.82663\n",
       "Score  0.82663  1.00000"
      ]
     },
     "execution_count": 7,
     "metadata": {},
     "output_type": "execute_result"
    }
   ],
   "source": [
    "data.corr()"
   ]
  },
  {
   "cell_type": "code",
   "execution_count": 28,
   "id": "d8facfee",
   "metadata": {},
   "outputs": [
    {
     "data": {
      "text/plain": [
       "'Discrete Mathematical Structures'"
      ]
     },
     "execution_count": 28,
     "metadata": {},
     "output_type": "execute_result"
    }
   ],
   "source": [
    "data.iloc[0,0]"
   ]
  },
  {
   "cell_type": "code",
   "execution_count": 8,
   "id": "11c491c0",
   "metadata": {},
   "outputs": [
    {
     "name": "stderr",
     "output_type": "stream",
     "text": [
      "D:\\Anaconda\\lib\\site-packages\\seaborn\\_decorators.py:36: FutureWarning: Pass the following variable as a keyword arg: x. From version 0.12, the only valid positional argument will be `data`, and passing other arguments without an explicit keyword will result in an error or misinterpretation.\n",
      "  warnings.warn(\n"
     ]
    },
    {
     "data": {
      "text/plain": [
       "<AxesSubplot:xlabel='Marks'>"
      ]
     },
     "execution_count": 8,
     "metadata": {},
     "output_type": "execute_result"
    },
    {
     "data": {
      "image/png": "[encoded data removed]",
      "text/plain": [
       "<Figure size 432x288 with 1 Axes>"
      ]
     },
     "metadata": {
      "needs_background": "light"
     },
     "output_type": "display_data"
    }
   ],
   "source": [
    "sns.boxplot(data[\"Marks\"])"
   ]
  },
  {
   "cell_type": "code",
   "execution_count": 9,
   "id": "bbadbdf6",
   "metadata": {
    "scrolled": true
   },
   "outputs": [
    {
     "name": "stderr",
     "output_type": "stream",
     "text": [
      "D:\\Anaconda\\lib\\site-packages\\seaborn\\_decorators.py:36: FutureWarning: Pass the following variable as a keyword arg: x. From version 0.12, the only valid positional argument will be `data`, and passing other arguments without an explicit keyword will result in an error or misinterpretation.\n",
      "  warnings.warn(\n"
     ]
    },
    {
     "data": {
      "text/plain": [
       "<AxesSubplot:xlabel='Score'>"
      ]
     },
     "execution_count": 9,
     "metadata": {},
     "output_type": "execute_result"
    },
    {
     "data": {
      "image/png": "[encoded data removed]",
      "text/plain": [
       "<Figure size 432x288 with 1 Axes>"
      ]
     },
     "metadata": {
      "needs_background": "light"
     },
     "output_type": "display_data"
    }
   ],
   "source": [
    "sns.boxplot(data[\"Score\"])"
   ]
  },
  {
   "cell_type": "code",
   "execution_count": 10,
   "id": "f73eeb44",
   "metadata": {},
   "outputs": [
    {
     "data": {
      "text/plain": [
       "<AxesSubplot:>"
      ]
     },
     "execution_count": 10,
     "metadata": {},
     "output_type": "execute_result"
    },
    {
     "data": {
      "image/png": "[encoded data removed]",
      "text/plain": [
       "<Figure size 432x288 with 2 Axes>"
      ]
     },
     "metadata": {
      "needs_background": "light"
     },
     "output_type": "display_data"
    }
   ],
   "source": [
    "sns.heatmap(data.corr(),annot=True)"
   ]
  },
  {
   "cell_type": "code",
   "execution_count": 11,
   "id": "fe7d6700",
   "metadata": {},
   "outputs": [
    {
     "data": {
      "text/plain": [
       "Discrete Mathematical Structures                 59\n",
       "ELECTIVE: English for Effective Communication    59\n",
       "Operating Systems                                59\n",
       "Programming with JAVA                            59\n",
       "Computer Networks                                59\n",
       "Environmental Studies                            59\n",
       "Name: Subject, dtype: int64"
      ]
     },
     "execution_count": 11,
     "metadata": {},
     "output_type": "execute_result"
    }
   ],
   "source": [
    "data['Subject'].value_counts()"
   ]
  },
  {
   "cell_type": "code",
   "execution_count": 12,
   "id": "81d8c1f0",
   "metadata": {},
   "outputs": [
    {
     "data": {
      "text/plain": [
       "array([['Discrete Mathematical Structures', 36],\n",
       "       ['Discrete Mathematical Structures', 31],\n",
       "       ['Discrete Mathematical Structures', 31],\n",
       "       ['Discrete Mathematical Structures', 34],\n",
       "       ['Discrete Mathematical Structures', 23],\n",
       "       ['Discrete Mathematical Structures', 34],\n",
       "       ['Discrete Mathematical Structures', 32],\n",
       "       ['Discrete Mathematical Structures', 25],\n",
       "       ['Discrete Mathematical Structures', 24],\n",
       "       ['Discrete Mathematical Structures', 40],\n",
       "       ['Discrete Mathematical Structures', 31],\n",
       "       ['Discrete Mathematical Structures', 27],\n",
       "       ['Discrete Mathematical Structures', 26],\n",
       "       ['Discrete Mathematical Structures', 32],\n",
       "       ['Discrete Mathematical Structures', 29],\n",
       "       ['Discrete Mathematical Structures', 26],\n",
       "       ['Discrete Mathematical Structures', 27],\n",
       "       ['Discrete Mathematical Structures', 27],\n",
       "       ['Discrete Mathematical Structures', 31],\n",
       "       ['Discrete Mathematical Structures', 34],\n",
       "       ['Discrete Mathematical Structures', 34],\n",
       "       ['Discrete Mathematical Structures', 34],\n",
       "       ['Discrete Mathematical Structures', 23],\n",
       "       ['Discrete Mathematical Structures', 37],\n",
       "       ['Discrete Mathematical Structures', 36],\n",
       "       ['Discrete Mathematical Structures', 39],\n",
       "       ['Discrete Mathematical Structures', 25],\n",
       "       ['Discrete Mathematical Structures', 27],\n",
       "       ['Discrete Mathematical Structures', 19],\n",
       "       ['Discrete Mathematical Structures', 40],\n",
       "       ['Discrete Mathematical Structures', 25],\n",
       "       ['Discrete Mathematical Structures', 28],\n",
       "       ['Discrete Mathematical Structures', 29],\n",
       "       ['Discrete Mathematical Structures', 35],\n",
       "       ['Discrete Mathematical Structures', 32],\n",
       "       ['Discrete Mathematical Structures', 33],\n",
       "       ['Discrete Mathematical Structures', 23],\n",
       "       ['Discrete Mathematical Structures', 26],\n",
       "       ['Discrete Mathematical Structures', 30],\n",
       "       ['Discrete Mathematical Structures', 30],\n",
       "       ['Discrete Mathematical Structures', 32],\n",
       "       ['Discrete Mathematical Structures', 27],\n",
       "       ['Discrete Mathematical Structures', 24],\n",
       "       ['Discrete Mathematical Structures', 36],\n",
       "       ['Discrete Mathematical Structures', 31],\n",
       "       ['Discrete Mathematical Structures', 23],\n",
       "       ['Discrete Mathematical Structures', 24],\n",
       "       ['Discrete Mathematical Structures', 26],\n",
       "       ['Discrete Mathematical Structures', 23],\n",
       "       ['Discrete Mathematical Structures', 30],\n",
       "       ['Discrete Mathematical Structures', 24],\n",
       "       ['Discrete Mathematical Structures', 29],\n",
       "       ['Discrete Mathematical Structures', 24],\n",
       "       ['Discrete Mathematical Structures', 40],\n",
       "       ['Discrete Mathematical Structures', 35],\n",
       "       ['Discrete Mathematical Structures', 36],\n",
       "       ['Discrete Mathematical Structures', 22],\n",
       "       ['Discrete Mathematical Structures', 31],\n",
       "       ['Discrete Mathematical Structures', 37],\n",
       "       ['ELECTIVE: English for Effective Communication', 34],\n",
       "       ['ELECTIVE: English for Effective Communication', 31],\n",
       "       ['ELECTIVE: English for Effective Communication', 35],\n",
       "       ['ELECTIVE: English for Effective Communication', 32],\n",
       "       ['ELECTIVE: English for Effective Communication', 23],\n",
       "       ['ELECTIVE: English for Effective Communication', 33],\n",
       "       ['ELECTIVE: English for Effective Communication', 35],\n",
       "       ['ELECTIVE: English for Effective Communication', 25],\n",
       "       ['ELECTIVE: English for Effective Communication', 26],\n",
       "       ['ELECTIVE: English for Effective Communication', 35],\n",
       "       ['ELECTIVE: English for Effective Communication', 30],\n",
       "       ['ELECTIVE: English for Effective Communication', 23],\n",
       "       ['ELECTIVE: English for Effective Communication', 30],\n",
       "       ['ELECTIVE: English for Effective Communication', 33],\n",
       "       ['ELECTIVE: English for Effective Communication', 33],\n",
       "       ['ELECTIVE: English for Effective Communication', 28],\n",
       "       ['ELECTIVE: English for Effective Communication', 33],\n",
       "       ['ELECTIVE: English for Effective Communication', 31],\n",
       "       ['ELECTIVE: English for Effective Communication', 30],\n",
       "       ['ELECTIVE: English for Effective Communication', 33],\n",
       "       ['ELECTIVE: English for Effective Communication', 32],\n",
       "       ['ELECTIVE: English for Effective Communication', 30],\n",
       "       ['ELECTIVE: English for Effective Communication', 25],\n",
       "       ['ELECTIVE: English for Effective Communication', 32],\n",
       "       ['ELECTIVE: English for Effective Communication', 11],\n",
       "       ['ELECTIVE: English for Effective Communication', 36],\n",
       "       ['ELECTIVE: English for Effective Communication', 29],\n",
       "       ['ELECTIVE: English for Effective Communication', 24],\n",
       "       ['ELECTIVE: English for Effective Communication', 27],\n",
       "       ['ELECTIVE: English for Effective Communication', 27],\n",
       "       ['ELECTIVE: English for Effective Communication', 29],\n",
       "       ['ELECTIVE: English for Effective Communication', 27],\n",
       "       ['ELECTIVE: English for Effective Communication', 30],\n",
       "       ['ELECTIVE: English for Effective Communication', 35],\n",
       "       ['ELECTIVE: English for Effective Communication', 31],\n",
       "       ['ELECTIVE: English for Effective Communication', 27],\n",
       "       ['ELECTIVE: English for Effective Communication', 23],\n",
       "       ['ELECTIVE: English for Effective Communication', 27],\n",
       "       ['ELECTIVE: English for Effective Communication', 29],\n",
       "       ['ELECTIVE: English for Effective Communication', 32],\n",
       "       ['ELECTIVE: English for Effective Communication', 32],\n",
       "       ['ELECTIVE: English for Effective Communication', 36],\n",
       "       ['ELECTIVE: English for Effective Communication', 33],\n",
       "       ['ELECTIVE: English for Effective Communication', 33],\n",
       "       ['ELECTIVE: English for Effective Communication', 34],\n",
       "       ['ELECTIVE: English for Effective Communication', 31],\n",
       "       ['ELECTIVE: English for Effective Communication', 29],\n",
       "       ['ELECTIVE: English for Effective Communication', 28],\n",
       "       ['ELECTIVE: English for Effective Communication', 33],\n",
       "       ['ELECTIVE: English for Effective Communication', 36],\n",
       "       ['ELECTIVE: English for Effective Communication', 31],\n",
       "       ['ELECTIVE: English for Effective Communication', 30],\n",
       "       ['ELECTIVE: English for Effective Communication', 32],\n",
       "       ['ELECTIVE: English for Effective Communication', 34],\n",
       "       ['ELECTIVE: English for Effective Communication', 34],\n",
       "       ['ELECTIVE: English for Effective Communication', 37],\n",
       "       ['ELECTIVE: English for Effective Communication', 31],\n",
       "       ['ELECTIVE: English for Effective Communication', 33],\n",
       "       ['ELECTIVE: English for Effective Communication', 32],\n",
       "       ['Environmental Studies', 33],\n",
       "       ['Environmental Studies', 26],\n",
       "       ['Environmental Studies', 35],\n",
       "       ['Environmental Studies', 33],\n",
       "       ['Environmental Studies', 29],\n",
       "       ['Environmental Studies', 21],\n",
       "       ['Environmental Studies', 35],\n",
       "       ['Environmental Studies', 25],\n",
       "       ['Environmental Studies', 32],\n",
       "       ['Environmental Studies', 37],\n",
       "       ['Environmental Studies', 31],\n",
       "       ['Environmental Studies', 24],\n",
       "       ['Environmental Studies', 31],\n",
       "       ['Environmental Studies', 32],\n",
       "       ['Environmental Studies', 36],\n",
       "       ['Environmental Studies', 31],\n",
       "       ['Environmental Studies', 29],\n",
       "       ['Environmental Studies', 31],\n",
       "       ['Environmental Studies', 33],\n",
       "       ['Environmental Studies', 36],\n",
       "       ['Environmental Studies', 30],\n",
       "       ['Environmental Studies', 33],\n",
       "       ['Environmental Studies', 26],\n",
       "       ['Environmental Studies', 36],\n",
       "       ['Environmental Studies', 36],\n",
       "       ['Environmental Studies', 35],\n",
       "       ['Environmental Studies', 32],\n",
       "       ['Environmental Studies', 26],\n",
       "       ['Environmental Studies', 22],\n",
       "       ['Environmental Studies', 31],\n",
       "       ['Environmental Studies', 32],\n",
       "       ['Environmental Studies', 24],\n",
       "       ['Environmental Studies', 36],\n",
       "       ['Environmental Studies', 35],\n",
       "       ['Environmental Studies', 33],\n",
       "       ['Environmental Studies', 32],\n",
       "       ['Environmental Studies', 26],\n",
       "       ['Environmental Studies', 30],\n",
       "       ['Environmental Studies', 36],\n",
       "       ['Environmental Studies', 35],\n",
       "       ['Environmental Studies', 33],\n",
       "       ['Environmental Studies', 32],\n",
       "       ['Environmental Studies', 33],\n",
       "       ['Environmental Studies', 35],\n",
       "       ['Environmental Studies', 35],\n",
       "       ['Environmental Studies', 33],\n",
       "       ['Environmental Studies', 27],\n",
       "       ['Environmental Studies', 30],\n",
       "       ['Environmental Studies', 31],\n",
       "       ['Environmental Studies', 33],\n",
       "       ['Environmental Studies', 31],\n",
       "       ['Environmental Studies', 36],\n",
       "       ['Environmental Studies', 30],\n",
       "       ['Environmental Studies', 37],\n",
       "       ['Environmental Studies', 35],\n",
       "       ['Environmental Studies', 36],\n",
       "       ['Environmental Studies', 27],\n",
       "       ['Environmental Studies', 30],\n",
       "       ['Environmental Studies', 32],\n",
       "       ['Programming with JAVA', 33],\n",
       "       ['Programming with JAVA', 26],\n",
       "       ['Programming with JAVA', 35],\n",
       "       ['Programming with JAVA', 33],\n",
       "       ['Programming with JAVA', 29],\n",
       "       ['Programming with JAVA', 21],\n",
       "       ['Programming with JAVA', 35],\n",
       "       ['Programming with JAVA', 25],\n",
       "       ['Programming with JAVA', 32],\n",
       "       ['Programming with JAVA', 37],\n",
       "       ['Programming with JAVA', 31],\n",
       "       ['Programming with JAVA', 24],\n",
       "       ['Programming with JAVA', 31],\n",
       "       ['Programming with JAVA', 32],\n",
       "       ['Programming with JAVA', 36],\n",
       "       ['Programming with JAVA', 31],\n",
       "       ['Programming with JAVA', 29],\n",
       "       ['Programming with JAVA', 31],\n",
       "       ['Programming with JAVA', 33],\n",
       "       ['Programming with JAVA', 36],\n",
       "       ['Programming with JAVA', 30],\n",
       "       ['Programming with JAVA', 33],\n",
       "       ['Programming with JAVA', 26],\n",
       "       ['Programming with JAVA', 36],\n",
       "       ['Programming with JAVA', 36],\n",
       "       ['Programming with JAVA', 35],\n",
       "       ['Programming with JAVA', 32],\n",
       "       ['Programming with JAVA', 26],\n",
       "       ['Programming with JAVA', 22],\n",
       "       ['Programming with JAVA', 31],\n",
       "       ['Programming with JAVA', 32],\n",
       "       ['Programming with JAVA', 24],\n",
       "       ['Programming with JAVA', 36],\n",
       "       ['Programming with JAVA', 35],\n",
       "       ['Programming with JAVA', 33],\n",
       "       ['Programming with JAVA', 32],\n",
       "       ['Programming with JAVA', 26],\n",
       "       ['Programming with JAVA', 30],\n",
       "       ['Programming with JAVA', 36],\n",
       "       ['Programming with JAVA', 35],\n",
       "       ['Programming with JAVA', 33],\n",
       "       ['Programming with JAVA', 32],\n",
       "       ['Programming with JAVA', 33],\n",
       "       ['Programming with JAVA', 35],\n",
       "       ['Programming with JAVA', 35],\n",
       "       ['Programming with JAVA', 33],\n",
       "       ['Programming with JAVA', 27],\n",
       "       ['Programming with JAVA', 30],\n",
       "       ['Programming with JAVA', 31],\n",
       "       ['Programming with JAVA', 33],\n",
       "       ['Programming with JAVA', 31],\n",
       "       ['Programming with JAVA', 36],\n",
       "       ['Programming with JAVA', 30],\n",
       "       ['Programming with JAVA', 37],\n",
       "       ['Programming with JAVA', 35],\n",
       "       ['Programming with JAVA', 36],\n",
       "       ['Programming with JAVA', 27],\n",
       "       ['Programming with JAVA', 30],\n",
       "       ['Programming with JAVA', 32],\n",
       "       ['Operating Systems', 28],\n",
       "       ['Operating Systems', 25],\n",
       "       ['Operating Systems', 31],\n",
       "       ['Operating Systems', 25],\n",
       "       ['Operating Systems', 19],\n",
       "       ['Operating Systems', 31],\n",
       "       ['Operating Systems', 32],\n",
       "       ['Operating Systems', 25],\n",
       "       ['Operating Systems', 26],\n",
       "       ['Operating Systems', 35],\n",
       "       ['Operating Systems', 23],\n",
       "       ['Operating Systems', 18],\n",
       "       ['Operating Systems', 35],\n",
       "       ['Operating Systems', 26],\n",
       "       ['Operating Systems', 25],\n",
       "       ['Operating Systems', 26],\n",
       "       ['Operating Systems', 26],\n",
       "       ['Operating Systems', 18],\n",
       "       ['Operating Systems', 34],\n",
       "       ['Operating Systems', 25],\n",
       "       ['Operating Systems', 31],\n",
       "       ['Operating Systems', 28],\n",
       "       ['Operating Systems', 29],\n",
       "       ['Operating Systems', 35],\n",
       "       ['Operating Systems', 36],\n",
       "       ['Operating Systems', 34],\n",
       "       ['Operating Systems', 20],\n",
       "       ['Operating Systems', 20],\n",
       "       ['Operating Systems', 17],\n",
       "       ['Operating Systems', 33],\n",
       "       ['Operating Systems', 27],\n",
       "       ['Operating Systems', 23],\n",
       "       ['Operating Systems', 24],\n",
       "       ['Operating Systems', 32],\n",
       "       ['Operating Systems', 27],\n",
       "       ['Operating Systems', 29],\n",
       "       ['Operating Systems', 24],\n",
       "       ['Operating Systems', 18],\n",
       "       ['Operating Systems', 30],\n",
       "       ['Operating Systems', 32],\n",
       "       ['Operating Systems', 29],\n",
       "       ['Operating Systems', 19],\n",
       "       ['Operating Systems', 20],\n",
       "       ['Operating Systems', 32],\n",
       "       ['Operating Systems', 27],\n",
       "       ['Operating Systems', 22],\n",
       "       ['Operating Systems', 20],\n",
       "       ['Operating Systems', 20],\n",
       "       ['Operating Systems', 22],\n",
       "       ['Operating Systems', 36],\n",
       "       ['Operating Systems', 29],\n",
       "       ['Operating Systems', 27],\n",
       "       ['Operating Systems', 19],\n",
       "       ['Operating Systems', 36],\n",
       "       ['Operating Systems', 32],\n",
       "       ['Operating Systems', 33],\n",
       "       ['Operating Systems', 24],\n",
       "       ['Operating Systems', 29],\n",
       "       ['Operating Systems', 33],\n",
       "       ['Computer Networks', 32],\n",
       "       ['Computer Networks', 25],\n",
       "       ['Computer Networks', 34],\n",
       "       ['Computer Networks', 26],\n",
       "       ['Computer Networks', 25],\n",
       "       ['Computer Networks', 26],\n",
       "       ['Computer Networks', 32],\n",
       "       ['Computer Networks', 23],\n",
       "       ['Computer Networks', 27],\n",
       "       ['Computer Networks', 36],\n",
       "       ['Computer Networks', 22],\n",
       "       ['Computer Networks', 19],\n",
       "       ['Computer Networks', 30],\n",
       "       ['Computer Networks', 24],\n",
       "       ['Computer Networks', 31],\n",
       "       ['Computer Networks', 27],\n",
       "       ['Computer Networks', 29],\n",
       "       ['Computer Networks', 23],\n",
       "       ['Computer Networks', 35],\n",
       "       ['Computer Networks', 26],\n",
       "       ['Computer Networks', 29],\n",
       "       ['Computer Networks', 27],\n",
       "       ['Computer Networks', 20],\n",
       "       ['Computer Networks', 31],\n",
       "       ['Computer Networks', 37],\n",
       "       ['Computer Networks', 36],\n",
       "       ['Computer Networks', 32],\n",
       "       ['Computer Networks', 20],\n",
       "       ['Computer Networks', 22],\n",
       "       ['Computer Networks', 31],\n",
       "       ['Computer Networks', 25],\n",
       "       ['Computer Networks', 23],\n",
       "       ['Computer Networks', 29],\n",
       "       ['Computer Networks', 37],\n",
       "       ['Computer Networks', 28],\n",
       "       ['Computer Networks', 26],\n",
       "       ['Computer Networks', 19],\n",
       "       ['Computer Networks', 22],\n",
       "       ['Computer Networks', 30],\n",
       "       ['Computer Networks', 30],\n",
       "       ['Computer Networks', 32],\n",
       "       ['Computer Networks', 26],\n",
       "       ['Computer Networks', 22],\n",
       "       ['Computer Networks', 26],\n",
       "       ['Computer Networks', 29],\n",
       "       ['Computer Networks', 24],\n",
       "       ['Computer Networks', 19],\n",
       "       ['Computer Networks', 24],\n",
       "       ['Computer Networks', 23],\n",
       "       ['Computer Networks', 34],\n",
       "       ['Computer Networks', 23],\n",
       "       ['Computer Networks', 26],\n",
       "       ['Computer Networks', 25],\n",
       "       ['Computer Networks', 37],\n",
       "       ['Computer Networks', 34],\n",
       "       ['Computer Networks', 32],\n",
       "       ['Computer Networks', 25],\n",
       "       ['Computer Networks', 27],\n",
       "       ['Computer Networks', 31]], dtype=object)"
      ]
     },
     "execution_count": 12,
     "metadata": {},
     "output_type": "execute_result"
    }
   ],
   "source": [
    "x = data.iloc[:,0:2].values\n",
    "x"
   ]
  },
  {
   "cell_type": "code",
   "execution_count": 13,
   "id": "cc33fe80",
   "metadata": {},
   "outputs": [
    {
     "data": {
      "text/plain": [
       "array([10,  9,  9,  9,  7,  9,  9,  7,  7, 10,  9,  8,  7,  9,  8,  7,  8,\n",
       "        8,  9,  9,  9,  9,  6, 10, 10, 10,  7,  8,  6, 10,  7,  8,  8, 10,\n",
       "        9,  9,  7,  7,  8,  8,  9,  8,  7, 10,  9,  7,  7,  7,  7,  8,  7,\n",
       "        8,  7, 10, 10, 10,  6,  9, 10,  8,  7,  8,  8,  6,  8,  8,  6,  6,\n",
       "        8,  7,  6,  7,  8,  8,  7,  8,  7,  7,  8,  8,  7,  6,  8,  9,  9,\n",
       "        7,  6,  7,  7,  7,  7,  7,  9,  7,  8,  6,  7,  8,  8,  8, 10,  9,\n",
       "        9,  9,  8, 10,  8,  9, 10,  9,  9,  9,  9, 10, 10,  8, 10,  9,  9,\n",
       "        7,  9,  8,  7,  8,  9,  7,  8,  9,  8,  6,  8,  8,  9,  8,  7,  8,\n",
       "        8,  9,  8,  8,  7,  9,  9,  9,  8,  7,  8,  8,  8,  8,  9,  9,  8,\n",
       "        8,  7,  8,  9,  9,  8,  8,  8,  9,  9,  8,  7,  8,  8,  8,  8,  9,\n",
       "        8,  9,  9,  9,  7,  8,  8,  9,  7,  9,  8,  7,  8,  9,  7,  8,  9,\n",
       "        8,  6,  8,  8,  9,  8,  7,  8,  8,  9,  8,  8,  7,  9,  9,  9,  8,\n",
       "        7,  8,  8,  8,  8,  9,  9,  8,  8,  7,  8,  9,  9,  8,  8,  8,  9,\n",
       "        9,  8,  7,  8,  8,  8,  8,  9,  8,  9,  9,  9,  7,  8,  8,  8,  7,\n",
       "        8,  7,  5,  8,  8,  7,  7,  9,  6,  6,  9,  8,  7,  7,  7,  4,  9,\n",
       "        7,  8,  7,  7,  9,  9,  9,  5,  6,  5,  8,  7,  6,  7,  8,  7,  7,\n",
       "        6,  4,  8,  8,  7,  6,  7,  8,  7,  6,  7,  5,  6,  9,  7,  7,  5,\n",
       "        9,  8,  8,  6,  7,  8,  9,  6,  8,  7,  6,  7,  8,  6,  7,  9,  6,\n",
       "        5,  7,  8,  8,  7,  9,  6,  9,  7,  7,  7,  5,  8,  9,  9,  8,  5,\n",
       "        6,  8,  6,  6,  9,  9,  7,  8,  4,  6,  7,  7,  8,  7,  8,  7,  7,\n",
       "        6,  8,  6,  6,  8,  6,  7,  6, 10,  8,  8,  6,  9,  8],\n",
       "      dtype=int64)"
      ]
     },
     "execution_count": 13,
     "metadata": {},
     "output_type": "execute_result"
    }
   ],
   "source": [
    "y = data.iloc[:,-1].values\n",
    "y"
   ]
  },
  {
   "cell_type": "code",
   "execution_count": 14,
   "id": "7db1bd09",
   "metadata": {},
   "outputs": [],
   "source": [
    "from sklearn.compose import ColumnTransformer\n",
    "from sklearn.preprocessing import OneHotEncoder"
   ]
  },
  {
   "cell_type": "code",
   "execution_count": 15,
   "id": "ff3cc0e8",
   "metadata": {
    "scrolled": true
   },
   "outputs": [
    {
     "data": {
      "text/plain": [
       "array([[0.0, 1.0, 0.0, ..., 0.0, 0.0, 36],\n",
       "       [0.0, 1.0, 0.0, ..., 0.0, 0.0, 31],\n",
       "       [0.0, 1.0, 0.0, ..., 0.0, 0.0, 31],\n",
       "       ...,\n",
       "       [1.0, 0.0, 0.0, ..., 0.0, 0.0, 25],\n",
       "       [1.0, 0.0, 0.0, ..., 0.0, 0.0, 27],\n",
       "       [1.0, 0.0, 0.0, ..., 0.0, 0.0, 31]], dtype=object)"
      ]
     },
     "execution_count": 15,
     "metadata": {},
     "output_type": "execute_result"
    }
   ],
   "source": [
    "ct = ColumnTransformer([('on',OneHotEncoder(sparse = False),[0])], remainder='passthrough')\n",
    "x = ct.fit_transform(x)\n",
    "x"
   ]
  },
  {
   "cell_type": "code",
   "execution_count": 16,
   "id": "4a3ac8e4",
   "metadata": {},
   "outputs": [
    {
     "data": {
      "text/plain": [
       "array([[1.0, 0.0, 0.0, 0.0, 0.0, 36],\n",
       "       [1.0, 0.0, 0.0, 0.0, 0.0, 31],\n",
       "       [1.0, 0.0, 0.0, 0.0, 0.0, 31],\n",
       "       ...,\n",
       "       [0.0, 0.0, 0.0, 0.0, 0.0, 25],\n",
       "       [0.0, 0.0, 0.0, 0.0, 0.0, 27],\n",
       "       [0.0, 0.0, 0.0, 0.0, 0.0, 31]], dtype=object)"
      ]
     },
     "execution_count": 16,
     "metadata": {},
     "output_type": "execute_result"
    }
   ],
   "source": [
    "x=x[:,1:]\n",
    "x"
   ]
  },
  {
   "cell_type": "code",
   "execution_count": 17,
   "id": "febb7787",
   "metadata": {},
   "outputs": [],
   "source": [
    "import joblib"
   ]
  },
  {
   "cell_type": "code",
   "execution_count": 18,
   "id": "943dc8b1",
   "metadata": {},
   "outputs": [
    {
     "data": {
      "text/plain": [
       "['transform_4']"
      ]
     },
     "execution_count": 18,
     "metadata": {},
     "output_type": "execute_result"
    }
   ],
   "source": [
    "joblib.dump(ct,\"transform_4\")"
   ]
  },
  {
   "cell_type": "code",
   "execution_count": 19,
   "id": "2d6b7085",
   "metadata": {
    "scrolled": false
   },
   "outputs": [
    {
     "data": {
      "text/plain": [
       "numpy.ndarray"
      ]
     },
     "execution_count": 19,
     "metadata": {},
     "output_type": "execute_result"
    }
   ],
   "source": [
    "type(x)"
   ]
  },
  {
   "cell_type": "code",
   "execution_count": 20,
   "id": "de3843b8",
   "metadata": {},
   "outputs": [],
   "source": [
    "from sklearn.linear_model import LinearRegression"
   ]
  },
  {
   "cell_type": "code",
   "execution_count": 21,
   "id": "f0e05af6",
   "metadata": {},
   "outputs": [
    {
     "data": {
      "text/plain": [
       "LinearRegression()"
      ]
     },
     "execution_count": 21,
     "metadata": {},
     "output_type": "execute_result"
    }
   ],
   "source": [
    "model = LinearRegression()\n",
    "model.fit(x,y)"
   ]
  },
  {
   "cell_type": "code",
   "execution_count": 22,
   "id": "9b7866ad",
   "metadata": {
    "scrolled": false
   },
   "outputs": [],
   "source": [
    "#model.predict([[0.0, 1.0, 0.0, 0.0, 0.0, 0.0, 36]])"
   ]
  },
  {
   "cell_type": "code",
   "execution_count": null,
   "id": "efe37b44",
   "metadata": {},
   "outputs": [],
   "source": []
  },
  {
   "cell_type": "code",
   "execution_count": 23,
   "id": "4b4f77de",
   "metadata": {},
   "outputs": [
    {
     "data": {
      "text/plain": [
       "['Models/sem_4']"
      ]
     },
     "execution_count": 23,
     "metadata": {},
     "output_type": "execute_result"
    }
   ],
   "source": [
    "joblib.dump(model, \"Models/sem_4\")"
   ]
  }
 ],
 "metadata": {
  "kernelspec": {
   "display_name": "Python 3",
   "language": "python",
   "name": "python3"
  },
  "language_info": {
   "codemirror_mode": {
    "name": "ipython",
    "version": 3
   },
   "file_extension": ".py",
   "mimetype": "text/x-python",
   "name": "python",
   "nbconvert_exporter": "python",
   "pygments_lexer": "ipython3",
   "version": "3.8.8"
  }
 },
 "nbformat": 4,
 "nbformat_minor": 5
}
